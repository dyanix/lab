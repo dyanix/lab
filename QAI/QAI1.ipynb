{
 "cells": [
  {
   "cell_type": "code",
   "execution_count": null,
   "id": "0267e6a4",
   "metadata": {},
   "outputs": [
    {
     "name": "stderr",
     "output_type": "stream",
     "text": [
      "C:\\Users\\DELL\\AppData\\Local\\Temp\\ipykernel_6208\\3744609238.py:3: DeprecationWarning: The package qiskit.providers.ibmq is being deprecated. Please see https://ibm.biz/provider_migration_guide to get instructions on how to migrate to qiskit-ibm-provider (https://github.com/Qiskit/qiskit-ibm-provider) and qiskit-ibm-runtime (https://github.com/Qiskit/qiskit-ibm-runtime).\n",
      "  IBMQ.enable_account('badf51be43262c13bfa8f702dbd493507f51661b700624a1e8d8e0af999c6da8b5cefb4c07efd01fe039724d02f8da2f3cae71c102bb3915a2dd519a2542ac6a')\n",
      "C:\\Users\\DELL\\AppData\\Local\\Temp\\ipykernel_6208\\3744609238.py:3: DeprecationWarning: The qiskit.IBMQ entrypoint and the qiskit-ibmq-provider package (accessible from 'qiskit.providers.ibmq`) are deprecated and will be removed in a future release. Instead you should use the qiskit-ibm-provider package which is accessible from 'qiskit_ibm_provider'. You can install it with 'pip install qiskit_ibm_provider'. Just replace 'qiskit.IBMQ' with 'qiskit_ibm_provider.IBMProvider'\n",
      "  IBMQ.enable_account('badf51be43262c13bfa8f702dbd493507f51661b700624a1e8d8e0af999c6da8b5cefb4c07efd01fe039724d02f8da2f3cae71c102bb3915a2dd519a2542ac6a')\n"
     ]
    },
    {
     "name": "stdout",
     "output_type": "stream",
     "text": [
      "Executing Job...\n",
      "\n",
      "RESULT:  {'0111010011111011': 1} \n",
      "\n",
      "Press any key to close\n"
     ]
    }
   ],
   "source": [
    "from qiskit import QuantumRegister, ClassicalRegister, QuantumCircuit, execute,IBMQ\n",
    "\n",
    "IBMQ.enable_account('badf51be43262c13bfa8f702dbd493507f51661b700624a1e8d8e0af999c6da8b5cefb4c07efd01fe039724d02f8da2f3cae71c102bb3915a2dd519a2542ac6a')\n",
    "provider = IBMQ.get_provider(hub='ibm-q')\n",
    "\n",
    "q = QuantumRegister(16,'q')\n",
    "c = ClassicalRegister(16,'c')\n",
    "circuit = QuantumCircuit(q,c)\n",
    "circuit.h(q) # Applies hadamard gate to all qubits\n",
    "circuit.measure(q,c) # Measures all qubits \n",
    "\n",
    "backend = provider.get_backend('ibmq_qasm_simulator')\n",
    "job = execute(circuit, backend, shots=1)\n",
    "                               \n",
    "print('Executing Job...\\n')                 \n",
    "result = job.result()\n",
    "counts = result.get_counts(circuit)\n",
    "\n",
    "print('RESULT: ',counts,'\\n')\n",
    "print('Press any key to close')\n",
    "input()"
   ]
  },
  {
   "cell_type": "code",
   "execution_count": null,
   "id": "2f13c291",
   "metadata": {},
   "outputs": [],
   "source": []
  }
 ],
 "metadata": {
  "kernelspec": {
   "display_name": "Python 3 (ipykernel)",
   "language": "python",
   "name": "python3"
  },
  "language_info": {
   "codemirror_mode": {
    "name": "ipython",
    "version": 3
   },
   "file_extension": ".py",
   "mimetype": "text/x-python",
   "name": "python",
   "nbconvert_exporter": "python",
   "pygments_lexer": "ipython3",
   "version": "3.9.13"
  }
 },
 "nbformat": 4,
 "nbformat_minor": 5
}
