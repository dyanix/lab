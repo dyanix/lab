{
 "cells": [
  {
   "cell_type": "code",
   "execution_count": 1,
   "id": "238ebd79",
   "metadata": {},
   "outputs": [
    {
     "name": "stderr",
     "output_type": "stream",
     "text": [
      "C:\\Users\\DELL\\AppData\\Local\\Temp\\ipykernel_11860\\1884273893.py:39: DeprecationWarning: Using a qobj for run() is deprecated as of qiskit-aer 0.9.0 and will be removed no sooner than 3 months from that release date. Transpiled circuits should now be passed directly using `backend.run(circuits, **run_options).\n",
      "  result = simulator.run(qobj).result()\n"
     ]
    },
    {
     "name": "stdout",
     "output_type": "stream",
     "text": [
      "Measurement outcomes:\n",
      "{'010': 501, '011': 523}\n"
     ]
    }
   ],
   "source": [
    "from qiskit import QuantumCircuit, Aer, transpile, assemble\n",
    "from qiskit.visualization import plot_histogram\n",
    "\n",
    "# Define the three-qubit bit-flip code circuit\n",
    "def bit_flip_code():\n",
    "    # Create a quantum circuit with 3 qubits and 3 classical bits\n",
    "    qc = QuantumCircuit(3, 3)\n",
    "\n",
    "    # Step 1: Encoding (using 3 qubits to protect 1 logical qubit)\n",
    "    qc.h(0)  # Apply Hadamard gate to qubit 0 (superposition)\n",
    "    qc.cx(0, 1)  # Apply CNOT gate between qubit 0 and qubit 1\n",
    "    qc.cx(0, 2)  # Apply CNOT gate between qubit 0 and qubit 2\n",
    "\n",
    "    # Step 2: Simulate an error (bit-flip error on qubit 1)\n",
    "    qc.x(1)  # Apply X gate (bit-flip) to qubit 1\n",
    "\n",
    "    # Step 3: Error correction\n",
    "    qc.cx(0, 1)  # Apply CNOT gate between qubit 0 and qubit 1\n",
    "    qc.cx(0, 2)  # Apply CNOT gate between qubit 0 and qubit 2\n",
    "    qc.ccx(2, 1, 0)  # Apply Toffoli gate to perform majority vote (error correction)\n",
    "\n",
    "    # Step 4: Measurement\n",
    "    qc.measure([0, 1, 2], [0, 1, 2])  # Measure all qubits and store the result in classical bits\n",
    "\n",
    "    return qc\n",
    "\n",
    "# Simulate the circuit and plot the results\n",
    "def simulate_circuit(circuit):\n",
    "    # Use the Aer simulator\n",
    "    simulator = Aer.get_backend('qasm_simulator')\n",
    "\n",
    "    # Transpile the circuit for the simulator\n",
    "    transpiled_circuit = transpile(circuit, simulator)\n",
    "\n",
    "    # Assemble the transpiled circuit for the simulator\n",
    "    qobj = assemble(transpiled_circuit)\n",
    "\n",
    "    # Execute the circuit on the simulator\n",
    "    result = simulator.run(qobj).result()\n",
    "\n",
    "    # Get the counts of the measurement outcomes\n",
    "    counts = result.get_counts(transpiled_circuit)\n",
    "    return counts\n",
    "\n",
    "if __name__ == \"__main__\":\n",
    "    # Create and run the circuit\n",
    "    circuit = bit_flip_code()\n",
    "    counts = simulate_circuit(circuit)\n",
    "\n",
    "    # Plot the measurement outcomes\n",
    "    print(\"Measurement outcomes:\")\n",
    "    print(counts)\n",
    "    plot_histogram(counts)\n"
   ]
  },
  {
   "cell_type": "code",
   "execution_count": null,
   "id": "8537a90e",
   "metadata": {},
   "outputs": [],
   "source": []
  }
 ],
 "metadata": {
  "kernelspec": {
   "display_name": "Python 3 (ipykernel)",
   "language": "python",
   "name": "python3"
  },
  "language_info": {
   "codemirror_mode": {
    "name": "ipython",
    "version": 3
   },
   "file_extension": ".py",
   "mimetype": "text/x-python",
   "name": "python",
   "nbconvert_exporter": "python",
   "pygments_lexer": "ipython3",
   "version": "3.9.13"
  }
 },
 "nbformat": 4,
 "nbformat_minor": 5
}
