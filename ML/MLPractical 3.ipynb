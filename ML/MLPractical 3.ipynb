{
 "cells": [
  {
   "cell_type": "code",
   "execution_count": 12,
   "id": "08e88a7e-18e4-436a-88b4-74577d9a9580",
   "metadata": {},
   "outputs": [],
   "source": [
    "import pandas as pd\n",
    "import numpy as np\n",
    "from sklearn.model_selection import train_test_split\n",
    "from sklearn.linear_model import LinearRegression, Ridge, Lasso\n",
    "from sklearn.metrics import r2_score, mean_squared_error, mean_absolute_error\n",
    "from sklearn.preprocessing import LabelEncoder\n",
    "from sklearn.preprocessing import StandardScaler\n",
    "from sklearn.compose import TransformedTargetRegressor\n",
    "from sklearn.pipeline import Pipeline"
   ]
  },
  {
   "cell_type": "markdown",
   "id": "989ae9a3-aff2-462b-9a20-2cb92a20f91b",
   "metadata": {},
   "source": [
    "### 1. Pre-process the dataset"
   ]
  },
  {
   "cell_type": "code",
   "execution_count": 3,
   "id": "73b01590-6bfc-4383-8c0d-9ead10623012",
   "metadata": {},
   "outputs": [],
   "source": [
    "data = pd.read_csv('UberFares.csv')  # Load the dataset\n",
    "data.dropna(inplace=True)  # Handle missing data"
   ]
  },
  {
   "cell_type": "code",
   "execution_count": 7,
   "id": "8abddb8b-f3d6-4eae-b252-585c89cc5253",
   "metadata": {},
   "outputs": [],
   "source": [
    "X = data[['pickup_longitude', 'pickup_latitude', 'dropoff_longitude', 'dropoff_latitude', 'passenger_count']]\n",
    "y = data['fare_amount']"
   ]
  },
  {
   "cell_type": "code",
   "execution_count": 8,
   "id": "cbb7c00a-5b46-460f-b7da-b65260564846",
   "metadata": {},
   "outputs": [],
   "source": [
    "X_train, X_test, y_train, y_test = train_test_split(X, y, test_size=0.2, random_state=42)"
   ]
  },
  {
   "cell_type": "markdown",
   "id": "5297d817-139c-49e9-82c0-9554985536b8",
   "metadata": {},
   "source": [
    "### 2. Identify Outliers (you can add outlier handling techniques here)\n",
    "\n",
    "### 3. Check the Correlation"
   ]
  },
  {
   "cell_type": "code",
   "execution_count": 9,
   "id": "3c2eff2f-2227-4375-b07a-74ad6bb3ee85",
   "metadata": {},
   "outputs": [
    {
     "name": "stdout",
     "output_type": "stream",
     "text": [
      "Correlation Matrix:\n",
      "                    Unnamed: 0  fare_amount  pickup_longitude  pickup_latitude  \\\n",
      "Unnamed: 0           1.000000     0.000587          0.000230        -0.000341   \n",
      "fare_amount          0.000587     1.000000          0.010458        -0.008482   \n",
      "pickup_longitude     0.000230     0.010458          1.000000        -0.816461   \n",
      "pickup_latitude     -0.000341    -0.008482         -0.816461         1.000000   \n",
      "dropoff_longitude    0.000270     0.008986          0.833026        -0.774787   \n",
      "dropoff_latitude     0.000271    -0.011014         -0.846324         0.702367   \n",
      "passenger_count      0.002259     0.010158         -0.000415        -0.001559   \n",
      "\n",
      "                   dropoff_longitude  dropoff_latitude  passenger_count  \n",
      "Unnamed: 0                  0.000270          0.000271         0.002259  \n",
      "fare_amount                 0.008986         -0.011014         0.010158  \n",
      "pickup_longitude            0.833026         -0.846324        -0.000415  \n",
      "pickup_latitude            -0.774787          0.702367        -0.001559  \n",
      "dropoff_longitude           1.000000         -0.917010         0.000033  \n",
      "dropoff_latitude           -0.917010          1.000000        -0.000659  \n",
      "passenger_count             0.000033         -0.000659         1.000000  \n"
     ]
    }
   ],
   "source": [
    "correlation_matrix = data.corr()\n",
    "print(\"Correlation Matrix:\\n\", correlation_matrix)"
   ]
  },
  {
   "cell_type": "markdown",
   "id": "e4260100-dd78-4fbd-bb4d-aef4ebcfc582",
   "metadata": {},
   "source": [
    "### 4. Implement Linear Regression and Ridge/Lasso Regression Models"
   ]
  },
  {
   "cell_type": "code",
   "execution_count": 21,
   "id": "1e653ae2-3606-4c31-9913-a2c1450e135e",
   "metadata": {},
   "outputs": [],
   "source": [
    "lr = LinearRegression()\n",
    "ridge = Ridge(alpha=1.0)\n",
    "lasso = Lasso(alpha=1.0)"
   ]
  },
  {
   "cell_type": "markdown",
   "id": "9877c781-3f8f-48e8-8622-2e46b44cc581",
   "metadata": {},
   "source": [
    "### Create a pipeline that scales the input features and transforms the target variable"
   ]
  },
  {
   "cell_type": "code",
   "execution_count": 13,
   "id": "08427ea5-1eca-4977-988e-44c36c76ad1b",
   "metadata": {},
   "outputs": [],
   "source": [
    "pipeline_lr = Pipeline([\n",
    "    ('scaler', StandardScaler()),  # Standardize features\n",
    "    ('regressor', lr)  # Apply Linear Regression\n",
    "])"
   ]
  },
  {
   "cell_type": "code",
   "execution_count": 14,
   "id": "e7a82d61-85cf-4ad3-865a-1749299d06c8",
   "metadata": {},
   "outputs": [],
   "source": [
    "pipeline_ridge = Pipeline([\n",
    "    ('scaler', StandardScaler()),  # Standardize features\n",
    "    ('regressor', ridge)  # Apply Ridge Regression\n",
    "])"
   ]
  },
  {
   "cell_type": "code",
   "execution_count": 15,
   "id": "4fcffe58-2416-4ccc-80c4-4a7c96668818",
   "metadata": {},
   "outputs": [],
   "source": [
    "pipeline_lasso = Pipeline([\n",
    "    ('scaler', StandardScaler()),  # Standardize features\n",
    "    ('regressor', lasso)  # Apply Lasso Regression\n",
    "])"
   ]
  },
  {
   "cell_type": "markdown",
   "id": "56c6d04d-75dd-4e14-a9f9-6ff07e6e8ebf",
   "metadata": {},
   "source": [
    "### Fit the models"
   ]
  },
  {
   "cell_type": "code",
   "execution_count": 16,
   "id": "60974c74-9d6e-45da-9dab-702d80c9a58d",
   "metadata": {},
   "outputs": [
    {
     "data": {
      "text/plain": [
       "Pipeline(steps=[('scaler', StandardScaler()), ('regressor', Lasso())])"
      ]
     },
     "execution_count": 16,
     "metadata": {},
     "output_type": "execute_result"
    }
   ],
   "source": [
    "pipeline_lr.fit(X_train, y_train)\n",
    "pipeline_ridge.fit(X_train, y_train)\n",
    "pipeline_lasso.fit(X_train, y_train)"
   ]
  },
  {
   "cell_type": "markdown",
   "id": "5fbc0ddf-8e27-43e8-af3f-4d7b1ec1808c",
   "metadata": {},
   "source": [
    "### 5. Evaluate the Models"
   ]
  },
  {
   "cell_type": "code",
   "execution_count": 17,
   "id": "22e3b43c-6abd-4f78-8bbe-5e1391c67f9a",
   "metadata": {},
   "outputs": [],
   "source": [
    "def evaluate_model(model, X_test, y_test):\n",
    "    y_pred = model.predict(X_test)\n",
    "    r2 = r2_score(y_test, y_pred)\n",
    "    rmse = np.sqrt(mean_squared_error(y_test, y_pred))\n",
    "    mae = mean_absolute_error(y_test, y_pred)\n",
    "    return r2, rmse, mae"
   ]
  },
  {
   "cell_type": "code",
   "execution_count": 18,
   "id": "1c92e901-cc09-4ddd-b763-cbecc1c97983",
   "metadata": {},
   "outputs": [],
   "source": [
    "r2_lr, rmse_lr, mae_lr = evaluate_model(pipeline_lr, X_test, y_test)\n",
    "r2_ridge, rmse_ridge, mae_ridge = evaluate_model(pipeline_ridge, X_test, y_test)\n",
    "r2_lasso, rmse_lasso, mae_lasso = evaluate_model(pipeline_lasso, X_test, y_test)"
   ]
  },
  {
   "cell_type": "code",
   "execution_count": 20,
   "id": "0aac61b1-a85a-4c83-ade8-d14f20c6da0b",
   "metadata": {},
   "outputs": [
    {
     "name": "stdout",
     "output_type": "stream",
     "text": [
      "Linear Regression - R2: 0.00034152697863043535 RMSE: 10.197470623964248 MAE: 6.068508583048691\n",
      "Ridge Regression - R2: 0.0003415255557153163 RMSE: 10.197470631221794 MAE: 6.068508571062477\n",
      "Lasso Regression - R2: -1.2270548227721889e-05 RMSE: 10.199275000569145 MAE: 6.069560575923911\n"
     ]
    }
   ],
   "source": [
    "print(\"Linear Regression - R2:\", r2_lr, \"RMSE:\", rmse_lr, \"MAE:\", mae_lr)\n",
    "print(\"Ridge Regression - R2:\", r2_ridge, \"RMSE:\", rmse_ridge, \"MAE:\", mae_ridge)\n",
    "print(\"Lasso Regression - R2:\", r2_lasso, \"RMSE:\", rmse_lasso, \"MAE:\", mae_lasso)"
   ]
  }
 ],
 "metadata": {
  "kernelspec": {
   "display_name": "Python 3 (ipykernel)",
   "language": "python",
   "name": "python3"
  },
  "language_info": {
   "codemirror_mode": {
    "name": "ipython",
    "version": 3
   },
   "file_extension": ".py",
   "mimetype": "text/x-python",
   "name": "python",
   "nbconvert_exporter": "python",
   "pygments_lexer": "ipython3",
   "version": "3.9.13"
  }
 },
 "nbformat": 4,
 "nbformat_minor": 5
}
