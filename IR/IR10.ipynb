{
 "cells": [
  {
   "cell_type": "code",
   "execution_count": null,
   "id": "baf75034",
   "metadata": {},
   "outputs": [],
   "source": [
    "import networkx as nx \n",
    "import plotly.express as px\n",
    "\n",
    "\n",
    "# Create a directed graph (replace this with your own graph)\n",
    "G = nx.DiGraph()\n",
    "G.add_edges_from([(1, 2), (1, 3), (2, 1), (3, 1)])\n",
    "# Calculate PageRank\n",
    "pagerank = nx.pagerank(G, alpha=0.85)\n",
    "# You can adjust the alpha parameter as needed\n",
    "# Create a DataFrame to store the PageRank values\n",
    "import pandas as pd \n",
    "pagerank_df = pd.DataFrame(pagerank.items(), columns=['Node', 'PageRank'])\n",
    "# Print the PageRank values for each node\n",
    "for node, pr in pagerank.items():\n",
    "    print(f\"Node {node}: PageRank = {pr:.4f}\")\n",
    "\n",
    "# Visualize the PageRank scores using Plotly Express\n",
    "fig = px.bar(pagerank_df, x='Node', y='PageRank', labels={'Node': 'Node ID', 'PageRank':\n",
    "'PageRank Score'})\n",
    "fig.update_layout(title='PageRank Scores', xaxis_title='Node', yaxis_title='PageRank')\n",
    "fig.show()"
   ]
  },
  {
   "cell_type": "code",
   "execution_count": 17,
   "id": "63b390d9",
   "metadata": {},
   "outputs": [
    {
     "name": "stdout",
     "output_type": "stream",
     "text": [
      "Requirement already satisfied: networkx<2.7 in ./opt/anaconda3/lib/python3.9/site-packages (2.6.3)\r\n"
     ]
    }
   ],
   "source": [
    "!pip install 'networkx<2.7'"
   ]
  },
  {
   "cell_type": "code",
   "execution_count": 18,
   "id": "7fdaff83",
   "metadata": {},
   "outputs": [
    {
     "name": "stdout",
     "output_type": "stream",
     "text": [
      "Requirement already satisfied: scipy>=1.8 in ./opt/anaconda3/lib/python3.9/site-packages (1.11.3)\r\n",
      "Requirement already satisfied: numpy<1.28.0,>=1.21.6 in ./opt/anaconda3/lib/python3.9/site-packages (from scipy>=1.8) (1.26.1)\r\n"
     ]
    }
   ],
   "source": [
    "!pip install 'scipy>=1.8'"
   ]
  }
 ],
 "metadata": {
  "kernelspec": {
   "display_name": "Python 3 (ipykernel)",
   "language": "python",
   "name": "python3"
  },
  "language_info": {
   "codemirror_mode": {
    "name": "ipython",
    "version": 3
   },
   "file_extension": ".py",
   "mimetype": "text/x-python",
   "name": "python",
   "nbconvert_exporter": "python",
   "pygments_lexer": "ipython3",
   "version": "3.9.7"
  }
 },
 "nbformat": 4,
 "nbformat_minor": 5
}
