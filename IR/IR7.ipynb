{
 "cells": [
  {
   "cell_type": "code",
   "execution_count": null,
   "id": "d95cdb75",
   "metadata": {},
   "outputs": [],
   "source": [
    "# Define the documents\n",
    "document1 = \"The quick brown fox jumped over the lazy dog.\"\n",
    "document2 = \"The lazy dog slept in the sun.\"\n",
    "# Step 1: Tokenize the documents\n",
    "# Convert each document to lowercase and split it into words \n",
    "tokens1 = document1.lower().split()\n",
    "tokens2 = document2.lower().split()\n",
    "# Combine the tokens into a list of unique terms \n",
    "terms = list(set(tokens1 + tokens2))\n",
    "# Step 2: Build the inverted index\n",
    "# Create an empty dictionary to store the inverted index \n",
    "inverted_index = {}\n",
    "# For each term, find the documents that contain it \n",
    "for term in terms:\n",
    "  documents = []\n",
    "  if term in tokens1:\n",
    "    documents.append(\"Document 1\") \n",
    "  if term in tokens2:\n",
    "    documents.append(\"Document 2\") \n",
    "  inverted_index[term] = documents\n",
    "# Step 3: Print the inverted index\n",
    "for term, documents in inverted_index.items():\n",
    " print(term, \"->\", \", \".join(documents))"
   ]
  },
  {
   "cell_type": "code",
   "execution_count": null,
   "id": "de477f9b",
   "metadata": {},
   "outputs": [],
   "source": [
    "query = input(\"Enter the Query : \")\n",
    "if qury in tokens1:\n",
    "    print(\" \".join(tokens1))\n",
    "if qury in tokens2:\n",
    "    print(\" \".join(tokens2))   "
   ]
  },
  {
   "cell_type": "code",
   "execution_count": null,
   "id": "b21f6ec0",
   "metadata": {},
   "outputs": [],
   "source": []
  }
 ],
 "metadata": {
  "kernelspec": {
   "display_name": "Python 3 (ipykernel)",
   "language": "python",
   "name": "python3"
  },
  "language_info": {
   "codemirror_mode": {
    "name": "ipython",
    "version": 3
   },
   "file_extension": ".py",
   "mimetype": "text/x-python",
   "name": "python",
   "nbconvert_exporter": "python",
   "pygments_lexer": "ipython3",
   "version": "3.9.7"
  }
 },
 "nbformat": 4,
 "nbformat_minor": 5
}
