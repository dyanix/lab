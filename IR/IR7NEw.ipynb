{
 "cells": [
  {
   "cell_type": "code",
   "execution_count": 9,
   "id": "d95cdb75",
   "metadata": {},
   "outputs": [
    {
     "name": "stdout",
     "output_type": "stream",
     "text": [
      "over -> Document 1\n",
      "fox -> Document 1\n",
      "dog. -> Document 1\n",
      "dog -> Document 2\n",
      "brown -> Document 1\n",
      "quick -> Document 1\n",
      "the -> Document 1, Document 2\n",
      "lazy -> Document 1, Document 2\n",
      "sun. -> Document 2\n",
      "jumped -> Document 1\n",
      "slept -> Document 2\n",
      "in -> Document 2\n"
     ]
    }
   ],
   "source": [
    "# Define the documents\n",
    "document1 = \"The quick brown fox jumped over the lazy dog.\"\n",
    "document2 = \"The lazy dog slept in the sun.\"\n",
    "\n",
    "# Step 1: Tokenize the documents\n",
    "# Convert each document to lowercase and split it into words \n",
    "\n",
    "tokens1 = document1.lower().split()\n",
    "tokens2 = document2.lower().split()\n",
    "\n",
    "# Combine the tokens into a list of unique terms \n",
    "\n",
    "terms = list(set(tokens1 + tokens2))\n",
    "\n",
    "# Step 2: Build the inverted index\n",
    "# Create an empty dictionary to store the inverted index \n",
    "inverted_index = {}\n",
    "# For each term, find the documents that contain it \n",
    "for term in terms:\n",
    "  documents = []\n",
    "  if term in tokens1:\n",
    "    documents.append(\"Document 1\") \n",
    "  if term in tokens2:\n",
    "    documents.append(\"Document 2\") \n",
    "  inverted_index[term] = documents\n",
    "\n",
    "\n",
    "# Step 3: Print the inverted index\n",
    "for term, documents in inverted_index.items():\n",
    " print(term, \"->\", \", \".join(documents))"
   ]
  },
  {
   "cell_type": "code",
   "execution_count": 10,
   "id": "de477f9b",
   "metadata": {},
   "outputs": [
    {
     "name": "stdout",
     "output_type": "stream",
     "text": [
      "Enter the Query : lazy\n",
      "the quick brown fox jumped over the lazy dog.\n",
      "the lazy dog slept in the sun.\n"
     ]
    }
   ],
   "source": [
    "query = input(\"Enter the Query : \")\n",
    "if query in tokens1:\n",
    "    print(\" \".join(tokens1))\n",
    "if query in tokens2:\n",
    "    print(\" \".join(tokens2))   "
   ]
  },
  {
   "cell_type": "code",
   "execution_count": 6,
   "id": "b21f6ec0",
   "metadata": {},
   "outputs": [
    {
     "name": "stdout",
     "output_type": "stream",
     "text": [
      "Enter the first document: my name is dyanesh\n",
      "Enter the second document: what is your name\n",
      "my -> Document 1\n",
      "dyanesh -> Document 1\n",
      "your -> Document 2\n",
      "what -> Document 2\n",
      "name -> Document 1, Document 2\n",
      "is -> Document 1, Document 2\n"
     ]
    }
   ],
   "source": [
    "# Step 1: Get input for the documents\n",
    "document1 = input(\"Enter the first document: \")\n",
    "document2 = input(\"Enter the second document: \")\n",
    "\n",
    "# Step 1: Tokenize the documents\n",
    "# Convert each document to lowercase and split it into words\n",
    "tokens1 = document1.lower().split()\n",
    "tokens2 = document2.lower().split()\n",
    "\n",
    "# Combine the tokens into a list of unique terms\n",
    "terms = list(set(tokens1 + tokens2))\n",
    "\n",
    "# Step 2: Build the inverted index\n",
    "# Create an empty dictionary to store the inverted index\n",
    "inverted_index = {}\n",
    "\n",
    "# For each term, find the documents that contain it\n",
    "for term in terms:\n",
    "    documents = []\n",
    "    if term in tokens1:\n",
    "        documents.append(\"Document 1\")\n",
    "    if term in tokens2:\n",
    "        documents.append(\"Document 2\")\n",
    "    inverted_index[term] = documents\n",
    "\n",
    "# Step 3: Print the inverted index\n",
    "for term, documents in inverted_index.items():\n",
    "    print(term, \"->\", \", \".join(documents))\n"
   ]
  },
  {
   "cell_type": "code",
   "execution_count": 8,
   "id": "88818292",
   "metadata": {},
   "outputs": [
    {
     "name": "stdout",
     "output_type": "stream",
     "text": [
      "Enter the Query : my\n",
      "my name is dyanesh\n"
     ]
    }
   ],
   "source": [
    "query = input(\"Enter the Query : \")\n",
    "if query in tokens1:\n",
    "    print(\" \".join(tokens1))\n",
    "if query in tokens2:\n",
    "    print(\" \".join(tokens2))   "
   ]
  },
  {
   "cell_type": "code",
   "execution_count": 11,
   "id": "19a3a8fb",
   "metadata": {},
   "outputs": [
    {
     "name": "stdout",
     "output_type": "stream",
     "text": [
      "Enter the Query: lazy\n",
      "Matching documents for query: lazy\n",
      "Document 2\n",
      "Document 1\n"
     ]
    }
   ],
   "source": [
    "query = input(\"Enter the Query: \")\n",
    "\n",
    "# Tokenize the query\n",
    "query_terms = query.lower().split()\n",
    "\n",
    "# Initialize a list to store matching documents\n",
    "matching_documents = []\n",
    "\n",
    "# Search for each term in the query in the inverted index\n",
    "for term in query_terms:\n",
    "    if term in inverted_index:\n",
    "        matching_documents.extend(inverted_index[term])\n",
    "\n",
    "# Remove duplicates by converting the list to a set and back to a list\n",
    "matching_documents = list(set(matching_documents))\n",
    "\n",
    "if matching_documents:\n",
    "    print(\"Matching documents for query:\", query)\n",
    "    for doc in matching_documents:\n",
    "        print(doc)\n",
    "else:\n",
    "    print(\"No matching documents found for query:\", query)"
   ]
  },
  {
   "cell_type": "code",
   "execution_count": null,
   "id": "111ea7ca",
   "metadata": {},
   "outputs": [],
   "source": []
  }
 ],
 "metadata": {
  "kernelspec": {
   "display_name": "Python 3 (ipykernel)",
   "language": "python",
   "name": "python3"
  },
  "language_info": {
   "codemirror_mode": {
    "name": "ipython",
    "version": 3
   },
   "file_extension": ".py",
   "mimetype": "text/x-python",
   "name": "python",
   "nbconvert_exporter": "python",
   "pygments_lexer": "ipython3",
   "version": "3.9.7"
  }
 },
 "nbformat": 4,
 "nbformat_minor": 5
}
