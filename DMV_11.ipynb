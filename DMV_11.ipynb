{
 "cells": [
  {
   "cell_type": "markdown",
   "id": "xKBkYEPNOPdc",
   "metadata": {
    "id": "xKBkYEPNOPdc"
   },
   "source": [
    "Problem Statement: Analyzing Air Quality Index (AQI) Trends in a City\n",
    "\n",
    "Dataset: \"City_Air_Quality.csv\"\n",
    "Description: The dataset contains information about air quality measurements in a specific\n",
    "city over a period of time. It includes attributes such as date, time, pollutant levels (e.g.,\n",
    "PM2.5, PM10, CO), and the Air Quality Index (AQI) values. The goal is to use the matplotlib\n",
    "library to create visualizations that effectively represent the AQI trends and patterns for\n",
    "different pollutants in the city.\n",
    "Tasks to Perform:\n",
    "1. Import the \"City_Air_Quality.csv\" dataset.\n",
    "2. Explore the dataset to understand its structure and content.\n",
    "3. Identify the relevant variables for visualizing AQI trends, such as date, pollutant\n",
    "levels, and AQI values.\n",
    "4. Create line plots or time series plots to visualize the overall AQI trend over time.\n",
    "5. Plot individual pollutant levels (e.g., PM2.5, PM10, CO) on separate line plots to\n",
    "visualize their trends over time.\n",
    "6. Use bar plots or stacked bar plots to compare the AQI values across different dates or\n",
    "time periods.\n",
    "7. Create box plots or violin plots to analyze the distribution of AQI values for different\n",
    "pollutant categories.\n",
    "8. Use scatter plots or bubble charts to explore the relationship between AQI values and\n",
    "pollutant levels.\n",
    "9. Customize the visualizations by adding labels, titles, legends, and appropriate color\n",
    "schemes."
   ]
  },
  {
   "cell_type": "code",
   "execution_count": 1,
   "id": "774c5a4c",
   "metadata": {
    "id": "774c5a4c"
   },
   "outputs": [],
   "source": [
    "import numpy as np\n",
    "import pandas as pd\n",
    "import matplotlib.pyplot as plt\n",
    "import seaborn as sns\n",
    "from sklearn.impute import SimpleImputer\n",
    "\n",
    "%matplotlib inline"
   ]
  },
  {
   "cell_type": "code",
   "execution_count": 2,
   "id": "kfQM_i2tOYU8",
   "metadata": {
    "colab": {
     "base_uri": "https://localhost:8080/"
    },
    "id": "kfQM_i2tOYU8",
    "outputId": "20f9cc74-d5d6-49c1-a1ab-1d86acf5b8e0"
   },
   "outputs": [
    {
     "name": "stderr",
     "output_type": "stream",
     "text": [
      "C:\\Users\\bhang\\AppData\\Local\\Temp\\ipykernel_26244\\599996903.py:1: DtypeWarning: Columns (0) have mixed types. Specify dtype option on import or set low_memory=False.\n",
      "  data = pd.read_csv(\"data.csv\")\n"
     ]
    },
    {
     "name": "stdout",
     "output_type": "stream",
     "text": [
      "RangeIndex(start=0, stop=435742, step=1)\n"
     ]
    }
   ],
   "source": [
    "data = pd.read_csv(\"data.csv\")\n",
    "print(data.index)"
   ]
  },
  {
   "cell_type": "code",
   "execution_count": 3,
   "id": "db25f7e3",
   "metadata": {
    "id": "db25f7e3"
   },
   "outputs": [],
   "source": [
    "sns.set(style=\"ticks\", rc = {'figure.figsize':(20,15)})\n",
    "\n",
    "# Supressing update warnings\n",
    "\n",
    "import warnings\n",
    "warnings.filterwarnings('ignore')"
   ]
  },
  {
   "cell_type": "markdown",
   "id": "47511e59",
   "metadata": {
    "id": "47511e59"
   },
   "source": [
    "Checking the dataset\n",
    "\n",
    "We can see that there are quite a number of NaNs in the dataset. To proceed with the EDA, we must handle these NaNs by either removing them or filling them. I will be doing both."
   ]
  },
  {
   "cell_type": "code",
   "execution_count": 4,
   "id": "09d65342",
   "metadata": {
    "colab": {
     "base_uri": "https://localhost:8080/"
    },
    "id": "09d65342",
    "outputId": "2924bcce-6ad9-4b48-9705-0eaf2342a7cd"
   },
   "outputs": [
    {
     "name": "stdout",
     "output_type": "stream",
     "text": [
      "stn_code                       144077\n",
      "sampling_date                       3\n",
      "state                               0\n",
      "location                            3\n",
      "agency                         149481\n",
      "type                             5393\n",
      "so2                             34646\n",
      "no2                             16233\n",
      "rspm                            40222\n",
      "spm                            237387\n",
      "location_monitoring_station     27491\n",
      "pm2_5                          426428\n",
      "date                                7\n",
      "dtype: int64\n",
      "(435742, 13)\n",
      "<class 'pandas.core.frame.DataFrame'>\n",
      "RangeIndex: 435742 entries, 0 to 435741\n",
      "Data columns (total 13 columns):\n",
      " #   Column                       Non-Null Count   Dtype  \n",
      "---  ------                       --------------   -----  \n",
      " 0   stn_code                     291665 non-null  object \n",
      " 1   sampling_date                435739 non-null  object \n",
      " 2   state                        435742 non-null  object \n",
      " 3   location                     435739 non-null  object \n",
      " 4   agency                       286261 non-null  object \n",
      " 5   type                         430349 non-null  object \n",
      " 6   so2                          401096 non-null  float64\n",
      " 7   no2                          419509 non-null  float64\n",
      " 8   rspm                         395520 non-null  float64\n",
      " 9   spm                          198355 non-null  float64\n",
      " 10  location_monitoring_station  408251 non-null  object \n",
      " 11  pm2_5                        9314 non-null    float64\n",
      " 12  date                         435735 non-null  object \n",
      "dtypes: float64(5), object(8)\n",
      "memory usage: 43.2+ MB\n"
     ]
    }
   ],
   "source": [
    "# checking the original dataset\n",
    "print(data.isnull().sum())\n",
    "print(data.shape)\n",
    "data.info()"
   ]
  },
  {
   "cell_type": "markdown",
   "id": "c1844519",
   "metadata": {
    "id": "c1844519"
   },
   "source": [
    "# Cleaning the dataset"
   ]
  },
  {
   "cell_type": "markdown",
   "id": "015085f8",
   "metadata": {
    "id": "015085f8"
   },
   "source": [
    "Removing NaNs\n",
    "Looking at the dataset head, we can conclude that the following columns:\n",
    "\n",
    "1. stn_code\n",
    "2. agency\n",
    "3. sampling_date\n",
    "4. location_monitoring_agency\n",
    "\n",
    "do not add much to the dataset in terms of information that can't already be extracted from other columns. Therefore, we drop these columns.\n",
    "\n",
    "Since date also has missing values, we will drop the rows containing these values as they're of little use as well.\n",
    "\n",
    "Cleaning values\n",
    "Since the geographical nomenclature has changed over time, we change it here as well to correspond to more accurate insights.\n",
    "\n",
    "The type column\n",
    "\n",
    "Currently, the type column has several names for the same type and therefore, it is better to clean it up and make it more uniform."
   ]
  },
  {
   "cell_type": "code",
   "execution_count": 5,
   "id": "3ea07f33",
   "metadata": {
    "id": "3ea07f33"
   },
   "outputs": [],
   "source": [
    "# Cleaning up the data\n",
    "\n",
    "\n",
    "# cleaning up name changes\n",
    "\n",
    "data.state = data.state.replace({'Uttaranchal':'Uttarakhand'})\n",
    "data.state[data.location == \"Jamshedpur\"] = data.state[data.location == 'Jamshedpur'].replace({\"Bihar\":\"Jharkhand\"})\n",
    "\n",
    "#changing types to uniform format\n",
    "\n",
    "types = {\n",
    "    \"Residential\": \"R\",\n",
    "    \"Residential and others\": \"RO\",\n",
    "    \"Residential, Rural and other Areas\": \"RRO\",\n",
    "    \"Industrial Area\": \"I\",\n",
    "    \"Industrial Areas\": \"I\",\n",
    "    \"Industrial\": \"I\",\n",
    "    \"Sensitive Area\": \"S\",\n",
    "    \"Sensitive Areas\": \"S\",\n",
    "    \"Sensitive\": \"S\",\n",
    "    np.nan: \"RRO\"\n",
    "}\n",
    "data.type = data.type.replace(types)"
   ]
  },
  {
   "cell_type": "code",
   "execution_count": 6,
   "id": "a70e6573",
   "metadata": {
    "colab": {
     "base_uri": "https://localhost:8080/",
     "height": 206
    },
    "id": "a70e6573",
    "outputId": "cf5d39ef-69e7-4d47-a8c3-69175627530d"
   },
   "outputs": [
    {
     "data": {
      "text/html": [
       "<div>\n",
       "<style scoped>\n",
       "    .dataframe tbody tr th:only-of-type {\n",
       "        vertical-align: middle;\n",
       "    }\n",
       "\n",
       "    .dataframe tbody tr th {\n",
       "        vertical-align: top;\n",
       "    }\n",
       "\n",
       "    .dataframe thead th {\n",
       "        text-align: right;\n",
       "    }\n",
       "</style>\n",
       "<table border=\"1\" class=\"dataframe\">\n",
       "  <thead>\n",
       "    <tr style=\"text-align: right;\">\n",
       "      <th></th>\n",
       "      <th>stn_code</th>\n",
       "      <th>sampling_date</th>\n",
       "      <th>state</th>\n",
       "      <th>location</th>\n",
       "      <th>agency</th>\n",
       "      <th>type</th>\n",
       "      <th>so2</th>\n",
       "      <th>no2</th>\n",
       "      <th>rspm</th>\n",
       "      <th>spm</th>\n",
       "      <th>location_monitoring_station</th>\n",
       "      <th>pm2_5</th>\n",
       "      <th>date</th>\n",
       "    </tr>\n",
       "  </thead>\n",
       "  <tbody>\n",
       "    <tr>\n",
       "      <th>0</th>\n",
       "      <td>150.0</td>\n",
       "      <td>February - M021990</td>\n",
       "      <td>Andhra Pradesh</td>\n",
       "      <td>Hyderabad</td>\n",
       "      <td>NaN</td>\n",
       "      <td>RRO</td>\n",
       "      <td>4.8</td>\n",
       "      <td>17.4</td>\n",
       "      <td>NaN</td>\n",
       "      <td>NaN</td>\n",
       "      <td>NaN</td>\n",
       "      <td>NaN</td>\n",
       "      <td>1990-02-01</td>\n",
       "    </tr>\n",
       "    <tr>\n",
       "      <th>1</th>\n",
       "      <td>151.0</td>\n",
       "      <td>February - M021990</td>\n",
       "      <td>Andhra Pradesh</td>\n",
       "      <td>Hyderabad</td>\n",
       "      <td>NaN</td>\n",
       "      <td>I</td>\n",
       "      <td>3.1</td>\n",
       "      <td>7.0</td>\n",
       "      <td>NaN</td>\n",
       "      <td>NaN</td>\n",
       "      <td>NaN</td>\n",
       "      <td>NaN</td>\n",
       "      <td>1990-02-01</td>\n",
       "    </tr>\n",
       "    <tr>\n",
       "      <th>2</th>\n",
       "      <td>152.0</td>\n",
       "      <td>February - M021990</td>\n",
       "      <td>Andhra Pradesh</td>\n",
       "      <td>Hyderabad</td>\n",
       "      <td>NaN</td>\n",
       "      <td>RRO</td>\n",
       "      <td>6.2</td>\n",
       "      <td>28.5</td>\n",
       "      <td>NaN</td>\n",
       "      <td>NaN</td>\n",
       "      <td>NaN</td>\n",
       "      <td>NaN</td>\n",
       "      <td>1990-02-01</td>\n",
       "    </tr>\n",
       "    <tr>\n",
       "      <th>3</th>\n",
       "      <td>150.0</td>\n",
       "      <td>March - M031990</td>\n",
       "      <td>Andhra Pradesh</td>\n",
       "      <td>Hyderabad</td>\n",
       "      <td>NaN</td>\n",
       "      <td>RRO</td>\n",
       "      <td>6.3</td>\n",
       "      <td>14.7</td>\n",
       "      <td>NaN</td>\n",
       "      <td>NaN</td>\n",
       "      <td>NaN</td>\n",
       "      <td>NaN</td>\n",
       "      <td>1990-03-01</td>\n",
       "    </tr>\n",
       "    <tr>\n",
       "      <th>4</th>\n",
       "      <td>151.0</td>\n",
       "      <td>March - M031990</td>\n",
       "      <td>Andhra Pradesh</td>\n",
       "      <td>Hyderabad</td>\n",
       "      <td>NaN</td>\n",
       "      <td>I</td>\n",
       "      <td>4.7</td>\n",
       "      <td>7.5</td>\n",
       "      <td>NaN</td>\n",
       "      <td>NaN</td>\n",
       "      <td>NaN</td>\n",
       "      <td>NaN</td>\n",
       "      <td>1990-03-01</td>\n",
       "    </tr>\n",
       "  </tbody>\n",
       "</table>\n",
       "</div>"
      ],
      "text/plain": [
       "  stn_code       sampling_date           state   location agency type  so2   \n",
       "0    150.0  February - M021990  Andhra Pradesh  Hyderabad    NaN  RRO  4.8  \\\n",
       "1    151.0  February - M021990  Andhra Pradesh  Hyderabad    NaN    I  3.1   \n",
       "2    152.0  February - M021990  Andhra Pradesh  Hyderabad    NaN  RRO  6.2   \n",
       "3    150.0     March - M031990  Andhra Pradesh  Hyderabad    NaN  RRO  6.3   \n",
       "4    151.0     March - M031990  Andhra Pradesh  Hyderabad    NaN    I  4.7   \n",
       "\n",
       "    no2  rspm  spm location_monitoring_station  pm2_5        date  \n",
       "0  17.4   NaN  NaN                         NaN    NaN  1990-02-01  \n",
       "1   7.0   NaN  NaN                         NaN    NaN  1990-02-01  \n",
       "2  28.5   NaN  NaN                         NaN    NaN  1990-02-01  \n",
       "3  14.7   NaN  NaN                         NaN    NaN  1990-03-01  \n",
       "4   7.5   NaN  NaN                         NaN    NaN  1990-03-01  "
      ]
     },
     "execution_count": 6,
     "metadata": {},
     "output_type": "execute_result"
    }
   ],
   "source": [
    "data.head()"
   ]
  },
  {
   "cell_type": "code",
   "execution_count": 7,
   "id": "8965c8b1",
   "metadata": {
    "id": "8965c8b1"
   },
   "outputs": [],
   "source": [
    "# defining columns of importance, which shall be used reguarly\n",
    "VALUE_COLS = ['so2', 'no2', 'rspm', 'spm', 'pm2_5']"
   ]
  },
  {
   "cell_type": "markdown",
   "id": "e70b9221",
   "metadata": {
    "id": "e70b9221"
   },
   "source": [
    "Filling NaNs\n",
    "Since our pollutants column contain a lot of NaNs, we must fill them to have consistent data. If we drop the rows containing NaNs, we will be left with nothing.\n",
    "\n",
    "I use the SimpleImputer from sklearn.imputer (v0.20.2) to fill the missing values in every column with the mean."
   ]
  },
  {
   "cell_type": "code",
   "execution_count": 8,
   "id": "4624d436",
   "metadata": {
    "colab": {
     "base_uri": "https://localhost:8080/",
     "height": 372
    },
    "id": "4624d436",
    "outputId": "030828e8-aaaf-4039-cd7d-872237cfffba"
   },
   "outputs": [],
   "source": [
    "# invoking SimpleImputer to fill missing values\n",
    "imputer = SimpleImputer(missing_values=np.nan, strategy='mean')\n",
    "data[VALUE_COLS] = imputer.fit_transform(data[VALUE_COLS])"
   ]
  },
  {
   "cell_type": "code",
   "execution_count": 9,
   "id": "78247078",
   "metadata": {
    "colab": {
     "base_uri": "https://localhost:8080/",
     "height": 391
    },
    "id": "78247078",
    "outputId": "dbd46f4a-a24f-4d0c-81f0-bcb90cd74790"
   },
   "outputs": [
    {
     "name": "stdout",
     "output_type": "stream",
     "text": [
      "stn_code                       144077\n",
      "sampling_date                       3\n",
      "state                               0\n",
      "location                            3\n",
      "agency                         149481\n",
      "type                                0\n",
      "so2                                 0\n",
      "no2                                 0\n",
      "rspm                                0\n",
      "spm                                 0\n",
      "location_monitoring_station     27491\n",
      "pm2_5                               0\n",
      "date                                7\n",
      "dtype: int64\n"
     ]
    },
    {
     "data": {
      "text/html": [
       "<div>\n",
       "<style scoped>\n",
       "    .dataframe tbody tr th:only-of-type {\n",
       "        vertical-align: middle;\n",
       "    }\n",
       "\n",
       "    .dataframe tbody tr th {\n",
       "        vertical-align: top;\n",
       "    }\n",
       "\n",
       "    .dataframe thead th {\n",
       "        text-align: right;\n",
       "    }\n",
       "</style>\n",
       "<table border=\"1\" class=\"dataframe\">\n",
       "  <thead>\n",
       "    <tr style=\"text-align: right;\">\n",
       "      <th></th>\n",
       "      <th>stn_code</th>\n",
       "      <th>sampling_date</th>\n",
       "      <th>state</th>\n",
       "      <th>location</th>\n",
       "      <th>agency</th>\n",
       "      <th>type</th>\n",
       "      <th>so2</th>\n",
       "      <th>no2</th>\n",
       "      <th>rspm</th>\n",
       "      <th>spm</th>\n",
       "      <th>location_monitoring_station</th>\n",
       "      <th>pm2_5</th>\n",
       "      <th>date</th>\n",
       "    </tr>\n",
       "  </thead>\n",
       "  <tbody>\n",
       "    <tr>\n",
       "      <th>435737</th>\n",
       "      <td>SAMP</td>\n",
       "      <td>24-12-15</td>\n",
       "      <td>West Bengal</td>\n",
       "      <td>ULUBERIA</td>\n",
       "      <td>West Bengal State Pollution Control Board</td>\n",
       "      <td>RIRUO</td>\n",
       "      <td>22.000000</td>\n",
       "      <td>50.000000</td>\n",
       "      <td>143.000000</td>\n",
       "      <td>220.78348</td>\n",
       "      <td>Inside Rampal Industries,ULUBERIA</td>\n",
       "      <td>40.791467</td>\n",
       "      <td>2015-12-24</td>\n",
       "    </tr>\n",
       "    <tr>\n",
       "      <th>435738</th>\n",
       "      <td>SAMP</td>\n",
       "      <td>29-12-15</td>\n",
       "      <td>West Bengal</td>\n",
       "      <td>ULUBERIA</td>\n",
       "      <td>West Bengal State Pollution Control Board</td>\n",
       "      <td>RIRUO</td>\n",
       "      <td>20.000000</td>\n",
       "      <td>46.000000</td>\n",
       "      <td>171.000000</td>\n",
       "      <td>220.78348</td>\n",
       "      <td>Inside Rampal Industries,ULUBERIA</td>\n",
       "      <td>40.791467</td>\n",
       "      <td>2015-12-29</td>\n",
       "    </tr>\n",
       "    <tr>\n",
       "      <th>435739</th>\n",
       "      <td>NaN</td>\n",
       "      <td>NaN</td>\n",
       "      <td>andaman-and-nicobar-islands</td>\n",
       "      <td>NaN</td>\n",
       "      <td>NaN</td>\n",
       "      <td>RRO</td>\n",
       "      <td>10.829414</td>\n",
       "      <td>25.809623</td>\n",
       "      <td>108.832784</td>\n",
       "      <td>220.78348</td>\n",
       "      <td>NaN</td>\n",
       "      <td>40.791467</td>\n",
       "      <td>NaN</td>\n",
       "    </tr>\n",
       "    <tr>\n",
       "      <th>435740</th>\n",
       "      <td>NaN</td>\n",
       "      <td>NaN</td>\n",
       "      <td>Lakshadweep</td>\n",
       "      <td>NaN</td>\n",
       "      <td>NaN</td>\n",
       "      <td>RRO</td>\n",
       "      <td>10.829414</td>\n",
       "      <td>25.809623</td>\n",
       "      <td>108.832784</td>\n",
       "      <td>220.78348</td>\n",
       "      <td>NaN</td>\n",
       "      <td>40.791467</td>\n",
       "      <td>NaN</td>\n",
       "    </tr>\n",
       "    <tr>\n",
       "      <th>435741</th>\n",
       "      <td>NaN</td>\n",
       "      <td>NaN</td>\n",
       "      <td>Tripura</td>\n",
       "      <td>NaN</td>\n",
       "      <td>NaN</td>\n",
       "      <td>RRO</td>\n",
       "      <td>10.829414</td>\n",
       "      <td>25.809623</td>\n",
       "      <td>108.832784</td>\n",
       "      <td>220.78348</td>\n",
       "      <td>NaN</td>\n",
       "      <td>40.791467</td>\n",
       "      <td>NaN</td>\n",
       "    </tr>\n",
       "  </tbody>\n",
       "</table>\n",
       "</div>"
      ],
      "text/plain": [
       "       stn_code sampling_date                        state  location   \n",
       "435737     SAMP      24-12-15                  West Bengal  ULUBERIA  \\\n",
       "435738     SAMP      29-12-15                  West Bengal  ULUBERIA   \n",
       "435739      NaN           NaN  andaman-and-nicobar-islands       NaN   \n",
       "435740      NaN           NaN                  Lakshadweep       NaN   \n",
       "435741      NaN           NaN                      Tripura       NaN   \n",
       "\n",
       "                                           agency   type        so2   \n",
       "435737  West Bengal State Pollution Control Board  RIRUO  22.000000  \\\n",
       "435738  West Bengal State Pollution Control Board  RIRUO  20.000000   \n",
       "435739                                        NaN    RRO  10.829414   \n",
       "435740                                        NaN    RRO  10.829414   \n",
       "435741                                        NaN    RRO  10.829414   \n",
       "\n",
       "              no2        rspm        spm        location_monitoring_station   \n",
       "435737  50.000000  143.000000  220.78348  Inside Rampal Industries,ULUBERIA  \\\n",
       "435738  46.000000  171.000000  220.78348  Inside Rampal Industries,ULUBERIA   \n",
       "435739  25.809623  108.832784  220.78348                                NaN   \n",
       "435740  25.809623  108.832784  220.78348                                NaN   \n",
       "435741  25.809623  108.832784  220.78348                                NaN   \n",
       "\n",
       "            pm2_5        date  \n",
       "435737  40.791467  2015-12-24  \n",
       "435738  40.791467  2015-12-29  \n",
       "435739  40.791467         NaN  \n",
       "435740  40.791467         NaN  \n",
       "435741  40.791467         NaN  "
      ]
     },
     "execution_count": 9,
     "metadata": {},
     "output_type": "execute_result"
    }
   ],
   "source": [
    "# checking to see if the dataset has any null values left over and the format\n",
    "print(data.isnull().sum())\n",
    "data.tail()"
   ]
  },
  {
   "cell_type": "markdown",
   "id": "d0318422",
   "metadata": {
    "id": "d0318422"
   },
   "source": [
    "# Plotting pollutant levels as yearly averages for states"
   ]
  },
  {
   "cell_type": "code",
   "execution_count": 10,
   "id": "3c8664e8",
   "metadata": {
    "id": "3c8664e8"
   },
   "outputs": [],
   "source": [
    "# defining a function that plots SO2, NO2, RSPM and SPM yearly average levels for a given state\n",
    "# since data is available monthly, it was resampled to a year and averaged to obtain yearly averages\n",
    "# years for which no data was collected has not been imputed\n",
    "def plot_for_state(state):\n",
    "    fig, ax = plt.subplots(2,2, figsize=(20,12))\n",
    "    fig.suptitle(state, size=20)\n",
    "    state = aqi[aqi.state == state]\n",
    "    state = state.reset_index().set_index('date')[VALUE_COLS].resample('Y').mean()\n",
    "    state.so2.plot(legend=True, ax=ax[0][0], title=\"so2\")\n",
    "    ax[0][0].set_ylabel(\"so2 (µg/m3)\")\n",
    "    ax[0][0].set_xlabel(\"Year\")\n",
    "\n",
    "    state.no2.plot(legend=True, ax=ax[0][1], title=\"no2\")\n",
    "    ax[0][1].set_ylabel(\"no2 (µg/m3)\")\n",
    "    ax[0][1].set_xlabel(\"Year\")\n",
    "\n",
    "    state.rspm.plot(legend=True, ax=ax[1][0], title=\"rspm\")\n",
    "    ax[1][0].set_ylabel(\"RSPM (PM10 µg/m3)\")\n",
    "    ax[1][0].set_xlabel(\"Year\")\n",
    "\n",
    "    state.spm.plot(legend=True, ax=ax[1][1], title=\"spm\")\n",
    "    ax[1][1].set_ylabel(\"SPM (PM10 µg/m3)\")\n",
    "    ax[1][1].set_xlabel(\"Year\")"
   ]
  },
  {
   "cell_type": "code",
   "execution_count": 11,
   "id": "3a5bf3b2",
   "metadata": {
    "id": "3a5bf3b2",
    "outputId": "647c04a3-2540-4a41-b896-c1bd87f383bc"
   },
   "outputs": [
    {
     "ename": "NameError",
     "evalue": "name 'aqi' is not defined",
     "output_type": "error",
     "traceback": [
      "\u001b[1;31m---------------------------------------------------------------------------\u001b[0m",
      "\u001b[1;31mNameError\u001b[0m                                 Traceback (most recent call last)",
      "Cell \u001b[1;32mIn[11], line 1\u001b[0m\n\u001b[1;32m----> 1\u001b[0m \u001b[43mplot_for_state\u001b[49m\u001b[43m(\u001b[49m\u001b[38;5;124;43m\"\u001b[39;49m\u001b[38;5;124;43mUttar Pradesh\u001b[39;49m\u001b[38;5;124;43m\"\u001b[39;49m\u001b[43m)\u001b[49m\n",
      "Cell \u001b[1;32mIn[10], line 7\u001b[0m, in \u001b[0;36mplot_for_state\u001b[1;34m(state)\u001b[0m\n\u001b[0;32m      5\u001b[0m fig, ax \u001b[38;5;241m=\u001b[39m plt\u001b[38;5;241m.\u001b[39msubplots(\u001b[38;5;241m2\u001b[39m,\u001b[38;5;241m2\u001b[39m, figsize\u001b[38;5;241m=\u001b[39m(\u001b[38;5;241m20\u001b[39m,\u001b[38;5;241m12\u001b[39m))\n\u001b[0;32m      6\u001b[0m fig\u001b[38;5;241m.\u001b[39msuptitle(state, size\u001b[38;5;241m=\u001b[39m\u001b[38;5;241m20\u001b[39m)\n\u001b[1;32m----> 7\u001b[0m state \u001b[38;5;241m=\u001b[39m \u001b[43maqi\u001b[49m[aqi\u001b[38;5;241m.\u001b[39mstate \u001b[38;5;241m==\u001b[39m state]\n\u001b[0;32m      8\u001b[0m state \u001b[38;5;241m=\u001b[39m state\u001b[38;5;241m.\u001b[39mreset_index()\u001b[38;5;241m.\u001b[39mset_index(\u001b[38;5;124m'\u001b[39m\u001b[38;5;124mdate\u001b[39m\u001b[38;5;124m'\u001b[39m)[VALUE_COLS]\u001b[38;5;241m.\u001b[39mresample(\u001b[38;5;124m'\u001b[39m\u001b[38;5;124mY\u001b[39m\u001b[38;5;124m'\u001b[39m)\u001b[38;5;241m.\u001b[39mmean()\n\u001b[0;32m      9\u001b[0m state\u001b[38;5;241m.\u001b[39mso2\u001b[38;5;241m.\u001b[39mplot(legend\u001b[38;5;241m=\u001b[39m\u001b[38;5;28;01mTrue\u001b[39;00m, ax\u001b[38;5;241m=\u001b[39max[\u001b[38;5;241m0\u001b[39m][\u001b[38;5;241m0\u001b[39m], title\u001b[38;5;241m=\u001b[39m\u001b[38;5;124m\"\u001b[39m\u001b[38;5;124mso2\u001b[39m\u001b[38;5;124m\"\u001b[39m)\n",
      "\u001b[1;31mNameError\u001b[0m: name 'aqi' is not defined"
     ]
    },
    {
     "data": {
      "image/png": "[encoded data removed]",
      "text/plain": [
       "<Figure size 2000x1200 with 4 Axes>"
      ]
     },
     "metadata": {},
     "output_type": "display_data"
    }
   ],
   "source": [
    "plot_for_state(\"Uttar Pradesh\")"
   ]
  },
  {
   "cell_type": "markdown",
   "id": "b2ffedc9",
   "metadata": {
    "id": "b2ffedc9"
   },
   "source": [
    "Plotting Uttar Pradesh, we see that SO2 levels have fallen in the state while NO2 levels have risen. Information about RSPM and SPM can't be concluded since a lot of data is missing."
   ]
  },
  {
   "cell_type": "markdown",
   "id": "0826783b",
   "metadata": {
    "id": "0826783b"
   },
   "source": [
    "# Plotting highest and lowest ranking states"
   ]
  },
  {
   "cell_type": "code",
   "execution_count": null,
   "id": "b3945cdf",
   "metadata": {
    "id": "b3945cdf"
   },
   "outputs": [],
   "source": [
    "# defining a function to find and plot the top 10 and bottom 10 states for a given indicator (defaults to SO2)\n",
    "def top_and_bottom_10_states(indicator=\"so2\"):\n",
    "    fig, ax = plt.subplots(2,1, figsize=(20, 12))\n",
    "\n",
    "    ind = data[[indicator, 'state']].groupby('state', as_index=False).median().sort_values(by=indicator,ascending=False)\n",
    "    top10 = sns.barplot(x='state', y=indicator, data=ind[:10], ax=ax[0], color='red')\n",
    "    top10.set_title(\"Top 10 states by {} (1991-2016)\".format(indicator))\n",
    "    top10.set_ylabel(\"so2 (µg/m3)\")\n",
    "    top10.set_xlabel(\"State\")\n",
    "\n",
    "    bottom10 = sns.barplot(x='state', y=indicator, data=ind[-10:], ax=ax[1], color='green')\n",
    "    bottom10.set_title(\"Bottom 10 states by {} (1991-2016)\".format(indicator))\n",
    "    bottom10.set_ylabel(\"so2 (µg/m3)\")\n",
    "    bottom10.set_xlabel(\"State\")"
   ]
  },
  {
   "cell_type": "code",
   "execution_count": null,
   "id": "c293d482",
   "metadata": {
    "colab": {
     "base_uri": "https://localhost:8080/",
     "height": 1000
    },
    "id": "c293d482",
    "outputId": "0f1cb14f-91f8-4c01-9978-d6c4114f2aed"
   },
   "outputs": [],
   "source": [
    "top_and_bottom_10_states(\"so2\")\n",
    "top_and_bottom_10_states(\"no2\")"
   ]
  },
  {
   "cell_type": "markdown",
   "id": "2ad5b86b",
   "metadata": {
    "id": "2ad5b86b"
   },
   "source": [
    "Plotting for SO2, we can see that the top state is Uttarakhand, while the bottom state is Meghalaya.\n",
    "\n",
    "Plotting for NO2, we can see that the top state is West Bengal, while the bottom state is Mizoram."
   ]
  },
  {
   "cell_type": "markdown",
   "id": "7b7246cd",
   "metadata": {
    "id": "7b7246cd"
   },
   "source": [
    "# Plotting the highest ever recorded levels"
   ]
  },
  {
   "cell_type": "code",
   "execution_count": null,
   "id": "f172324d",
   "metadata": {
    "id": "f172324d"
   },
   "outputs": [],
   "source": [
    "# defining a function to find the highest ever recorded levels for a given indicator (defaults to SO2) by state\n",
    "# sidenote: mostly outliers\n",
    "def highest_levels_recorded(indicator=\"so2\"):\n",
    "    plt.figure(figsize=(20,10))\n",
    "    ind = data[[indicator, 'location', 'state', 'date']].groupby('state', as_index=False).max()\n",
    "    highest = sns.barplot(x='state', y=indicator, data=ind)\n",
    "    highest.set_title(\"Highest ever {} levels recorded by state\".format(indicator))\n",
    "    plt.xticks(rotation=90)"
   ]
  },
  {
   "cell_type": "code",
   "execution_count": null,
   "id": "45056b70",
   "metadata": {
    "colab": {
     "base_uri": "https://localhost:8080/",
     "height": 1000
    },
    "id": "45056b70",
    "outputId": "a4c2a85a-8bdf-4365-a03e-6de1c417772f"
   },
   "outputs": [],
   "source": [
    "highest_levels_recorded(\"no2\")\n",
    "highest_levels_recorded(\"rspm\")"
   ]
  },
  {
   "cell_type": "markdown",
   "id": "3b1b03c9",
   "metadata": {
    "id": "3b1b03c9"
   },
   "source": [
    "Plotting for NO2, we can see that Rajasthan recorded the highest ever NO2 level. Plotting for RSPM, we can see that Uttar Pradesh recorded the highest ever RSPM level."
   ]
  },
  {
   "cell_type": "markdown",
   "id": "31ca8c0e",
   "metadata": {
    "id": "31ca8c0e"
   },
   "source": [
    "# Plotting yearly trends"
   ]
  },
  {
   "cell_type": "code",
   "execution_count": null,
   "id": "4c0a6baa",
   "metadata": {
    "id": "4c0a6baa"
   },
   "outputs": [],
   "source": [
    "# defining a function to plot the yearly trend values for a given indicator (defaults to SO2) and state (defaults to overall)\n",
    "def yearly_trend(state=\"\", indicator=\"so2\", ):\n",
    "    plt.figure(figsize=(20,12))\n",
    "    data['year'] = data.date.dt.year\n",
    "    if state is \"\":\n",
    "        year_wise = data[[indicator, 'year', 'state']].groupby('year', as_index=False).median()\n",
    "        trend = sns.pointplot(x='year', y=indicator, data=year_wise)\n",
    "        trend.set_title('Yearly trend of {}'.format(indicator))\n",
    "    else:\n",
    "        year_wise = data[[indicator, 'year', 'state']].groupby(['state','year']).median().loc[state].reset_index()\n",
    "        trend = sns.pointplot(x='year', y=indicator, data=year_wise)\n",
    "        trend.set_title('Yearly trend of {} for {}'.format(indicator, state))"
   ]
  },
  {
   "cell_type": "code",
   "execution_count": null,
   "id": "a0323c87",
   "metadata": {
    "colab": {
     "base_uri": "https://localhost:8080/",
     "height": 335
    },
    "id": "a0323c87",
    "outputId": "1ce728f6-e711-44f4-f8b2-b9b733f4f51b"
   },
   "outputs": [],
   "source": [
    "yearly_trend()\n",
    "yearly_trend(\"Bihar\", \"no2\")"
   ]
  },
  {
   "cell_type": "markdown",
   "id": "1b3aab70",
   "metadata": {
    "id": "1b3aab70"
   },
   "source": [
    "Plotting for SO2, we can see the yearly trend for sulphur dioxide levels in the country. Plotting for NO2 in West Bengal, we can see the yearly trend."
   ]
  },
  {
   "cell_type": "markdown",
   "id": "df880589",
   "metadata": {
    "id": "df880589"
   },
   "source": [
    "# Plotting a heatmap for a particular indicator"
   ]
  },
  {
   "cell_type": "code",
   "execution_count": null,
   "id": "43e0b880",
   "metadata": {
    "id": "43e0b880"
   },
   "outputs": [],
   "source": [
    "# defining a function to plot a heatmap for yearly median average for a given indicator (defaults to SO2)\n",
    "def indicator_by_state_and_year(indicator=\"so2\"):\n",
    "    plt.figure(figsize=(20, 20))\n",
    "    hmap = sns.heatmap(\n",
    "        data=data.pivot_table(values=indicator, index='state', columns='year', aggfunc='median', margins=True),\n",
    "               annot=True, linewidths=.5, cbar=True, square=True, cmap='inferno', cbar_kws={'label': \"Annual Average\"})\n",
    "\n",
    "    hmap.set_title(\"{} by state and year\".format(indicator))"
   ]
  },
  {
   "cell_type": "code",
   "execution_count": null,
   "id": "433d044f",
   "metadata": {
    "colab": {
     "base_uri": "https://localhost:8080/",
     "height": 354
    },
    "id": "433d044f",
    "outputId": "866ac8e5-a04d-4ca5-82e0-b0177f570930"
   },
   "outputs": [],
   "source": [
    "indicator_by_state_and_year('no2')"
   ]
  },
  {
   "cell_type": "markdown",
   "id": "d76c5743",
   "metadata": {
    "id": "d76c5743"
   },
   "source": [
    "# Plotting pollutant average by type"
   ]
  },
  {
   "cell_type": "code",
   "execution_count": null,
   "id": "bafeb21c",
   "metadata": {
    "id": "bafeb21c"
   },
   "outputs": [],
   "source": [
    "# defining a function to plot pollutant averages by type for a given indicator\n",
    "def type_avg(indicator=\"\"):\n",
    "    type_avg = data[VALUE_COLS + ['type', 'date']].groupby(\"type\").mean()\n",
    "    if indicator is not \"\":\n",
    "        t = type_avg[indicator].plot(kind='bar')\n",
    "        plt.xticks(rotation = 0)\n",
    "        plt.title(\"Pollutant average by type for {}\".format(indicator))\n",
    "    else:\n",
    "        t = type_avg.plot(kind='bar')\n",
    "        plt.xticks(rotation = 0)\n",
    "        plt.title(\"Pollutant average by type\")"
   ]
  },
  {
   "cell_type": "code",
   "execution_count": null,
   "id": "bac87245",
   "metadata": {
    "colab": {
     "base_uri": "https://localhost:8080/",
     "height": 1000
    },
    "id": "bac87245",
    "outputId": "359faafe-06c6-430a-cae4-9963ae7e38ef"
   },
   "outputs": [],
   "source": []
  },
  {
   "cell_type": "markdown",
   "id": "63e8f1b5",
   "metadata": {
    "id": "63e8f1b5"
   },
   "source": [
    "# Plotting pollutant averages by locations/state"
   ]
  },
  {
   "cell_type": "code",
   "execution_count": null,
   "id": "1d99323a",
   "metadata": {
    "id": "1d99323a"
   },
   "outputs": [],
   "source": [
    "# defining a function to plot pollutant averages for a given indicator (defaults to SO2) by locations in a given state\n",
    "def location_avgs(state, indicator=\"so2\"):\n",
    "    locs = data[VALUE_COLS + ['state', 'location', 'date']].groupby(['state', 'location']).mean()\n",
    "    state_avgs = locs.loc[state].reset_index()\n",
    "    sns.barplot(x='location', y=indicator, data=state_avgs)\n",
    "    plt.title(\"Location-wise average for {} in {}\".format(indicator, state))\n",
    "    plt.xticks(rotation = 90)"
   ]
  },
  {
   "cell_type": "code",
   "execution_count": null,
   "id": "c3a7126e",
   "metadata": {
    "colab": {
     "base_uri": "https://localhost:8080/",
     "height": 1000
    },
    "id": "c3a7126e",
    "outputId": "ae0341fc-efdb-4121-a6e8-53d4e5d52e6e"
   },
   "outputs": [],
   "source": [
    "location_avgs(\"Bihar\", \"no2\")"
   ]
  },
  {
   "cell_type": "code",
   "execution_count": null,
   "id": "6c1e19d5",
   "metadata": {
    "id": "6c1e19d5"
   },
   "outputs": [],
   "source": []
  }
 ],
 "metadata": {
  "colab": {
   "provenance": []
  },
  "kernelspec": {
   "display_name": "Python 3 (ipykernel)",
   "language": "python",
   "name": "python3"
  },
  "language_info": {
   "codemirror_mode": {
    "name": "ipython",
    "version": 3
   },
   "file_extension": ".py",
   "mimetype": "text/x-python",
   "name": "python",
   "nbconvert_exporter": "python",
   "pygments_lexer": "ipython3",
   "version": "3.11.3"
  }
 },
 "nbformat": 4,
 "nbformat_minor": 5
}
